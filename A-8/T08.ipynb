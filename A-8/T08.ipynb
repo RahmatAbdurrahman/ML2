{
  "nbformat": 4,
  "nbformat_minor": 0,
  "metadata": {
    "colab": {
      "provenance": []
    },
    "kernelspec": {
      "name": "python3",
      "display_name": "Python 3"
    },
    "language_info": {
      "name": "python"
    }
  },
  "cells": [
    {
      "cell_type": "markdown",
      "source": [
        "# T08 - Implementasi Generative Adevsarial Network\n",
        "\n",
        "## ANGGOTA KELOMPOK\n",
        "\n",
        "\n",
        "1.   HIkam Ibnu - 442303611044\n",
        "2.   M Rizqi Anugrah - 442303611041\n",
        "3.   Dziffar J - 442303611055\n",
        "4.   Arifin Zulfan - 442303611043\n",
        "5.   Rahmat Abdurrahman - 442023611047\n"
      ],
      "metadata": {
        "id": "QyyzJlxZpowS"
      }
    },
    {
      "cell_type": "markdown",
      "source": [
        "# 1. IMPORT LIBRARY"
      ],
      "metadata": {
        "id": "t8sSApkP6wT1"
      }
    },
    {
      "cell_type": "code",
      "source": [
        "import tensorflow as tf\n",
        "from tensorflow import keras\n",
        "from tensorflow.keras import layers\n",
        "import numpy as np\n",
        "import matplotlib.pyplot as plt\n",
        "import os\n",
        "from IPython.display import clear_output\n",
        "import time\n",
        "\n",
        "tf.random.set_seed(42)\n",
        "np.random.seed(42)"
      ],
      "metadata": {
        "id": "7preUiJS6can"
      },
      "execution_count": 2,
      "outputs": []
    },
    {
      "cell_type": "markdown",
      "source": [
        "# 2. LOAD DAN PREPROCESSING"
      ],
      "metadata": {
        "id": "C6OKLIHZ61zB"
      }
    },
    {
      "cell_type": "code",
      "source": [
        "# Load dataset MNIST (lebih mudah untuk GAN pertama)\n",
        "(x_train, _), (_, _) = keras.datasets.mnist.load_data()\n",
        "\n",
        "# Preprocessing\n",
        "x_train = x_train.astype('float32')\n",
        "x_train = (x_train - 127.5) / 127.5  # Normalize ke [-1, 1]\n",
        "x_train = np.expand_dims(x_train, axis=-1)  # Add channel dimension\n",
        "\n",
        "print(f\"Dataset shape: {x_train.shape}\")\n",
        "print(f\"Data range: [{x_train.min():.2f}, {x_train.max():.2f}]\")\n",
        "\n",
        "# Visualisasi sample data\n",
        "plt.figure(figsize=(10, 4))\n",
        "for i in range(10):\n",
        "    plt.subplot(2, 5, i+1)\n",
        "    plt.imshow(x_train[i].squeeze(), cmap='gray')\n",
        "    plt.title(f'Sample {i+1}')\n",
        "    plt.axis('off')\n",
        "plt.suptitle('Original MNIST Samples')\n",
        "plt.tight_layout()\n",
        "plt.show()"
      ],
      "metadata": {
        "colab": {
          "base_uri": "https://localhost:8080/",
          "height": 448
        },
        "id": "7Xwu5Ltt6nEY",
        "outputId": "eb7a25eb-567a-43d8-dca2-5cc01a66c184"
      },
      "execution_count": 3,
      "outputs": [
        {
          "output_type": "stream",
          "name": "stdout",
          "text": [
            "Dataset shape: (60000, 28, 28, 1)\n",
            "Data range: [-1.00, 1.00]\n"
          ]
        },
        {
          "output_type": "display_data",
          "data": {
            "text/plain": [
              "<Figure size 1000x400 with 10 Axes>"
            ],
            "image/png": "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\n"
          },
          "metadata": {}
        }
      ]
    },
    {
      "cell_type": "markdown",
      "source": [
        "# 3. CREATE GENERATOR MODEL"
      ],
      "metadata": {
        "id": "_SlQx5jE67Ot"
      }
    },
    {
      "cell_type": "code",
      "source": [
        "def create_generator(latent_dim=100):\n",
        "    \"\"\"\n",
        "    Generator: Mengubah noise menjadi gambar\n",
        "    Input: Random noise vector (latent_dim,)\n",
        "    Output: Generated image (28, 28, 1)\n",
        "    \"\"\"\n",
        "    model = keras.Sequential([\n",
        "        # Dense layer untuk expand noise\n",
        "        layers.Dense(7 * 7 * 256, use_bias=False, input_shape=(latent_dim,)),\n",
        "        layers.BatchNormalization(),\n",
        "        layers.LeakyReLU(),\n",
        "\n",
        "        # Reshape ke format image\n",
        "        layers.Reshape((7, 7, 256)),\n",
        "\n",
        "        # Upsampling layers\n",
        "        layers.Conv2DTranspose(128, (5, 5), strides=(1, 1), padding='same', use_bias=False),\n",
        "        layers.BatchNormalization(),\n",
        "        layers.LeakyReLU(),\n",
        "\n",
        "        layers.Conv2DTranspose(64, (5, 5), strides=(2, 2), padding='same', use_bias=False),\n",
        "        layers.BatchNormalization(),\n",
        "        layers.LeakyReLU(),\n",
        "\n",
        "        layers.Conv2DTranspose(1, (5, 5), strides=(2, 2), padding='same', use_bias=False, activation='tanh')\n",
        "    ], name='generator')\n",
        "\n",
        "    return model\n",
        "\n",
        "# Create generator\n",
        "latent_dim = 100\n",
        "generator = create_generator(latent_dim)\n",
        "\n",
        "# Test generator\n",
        "noise = tf.random.normal([1, latent_dim])\n",
        "generated_image = generator(noise, training=False)\n",
        "\n",
        "plt.figure(figsize=(4, 4))\n",
        "plt.imshow(generated_image[0, :, :, 0], cmap='gray')\n",
        "plt.title('Generated Image (Before Training)')\n",
        "plt.axis('off')\n",
        "plt.show()\n",
        "\n",
        "print(\"Generator Architecture:\")\n",
        "generator.summary()"
      ],
      "metadata": {
        "colab": {
          "base_uri": "https://localhost:8080/",
          "height": 999
        },
        "id": "9Q9RomDB7CGr",
        "outputId": "3fca5644-00b6-4731-e422-c814538f22b2"
      },
      "execution_count": 4,
      "outputs": [
        {
          "output_type": "stream",
          "name": "stderr",
          "text": [
            "/usr/local/lib/python3.11/dist-packages/keras/src/layers/core/dense.py:87: UserWarning: Do not pass an `input_shape`/`input_dim` argument to a layer. When using Sequential models, prefer using an `Input(shape)` object as the first layer in the model instead.\n",
            "  super().__init__(activity_regularizer=activity_regularizer, **kwargs)\n"
          ]
        },
        {
          "output_type": "display_data",
          "data": {
            "text/plain": [
              "<Figure size 400x400 with 1 Axes>"
            ],
            "image/png": "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\n"
          },
          "metadata": {}
        },
        {
          "output_type": "stream",
          "name": "stdout",
          "text": [
            "Generator Architecture:\n"
          ]
        },
        {
          "output_type": "display_data",
          "data": {
            "text/plain": [
              "\u001b[1mModel: \"generator\"\u001b[0m\n"
            ],
            "text/html": [
              "<pre style=\"white-space:pre;overflow-x:auto;line-height:normal;font-family:Menlo,'DejaVu Sans Mono',consolas,'Courier New',monospace\"><span style=\"font-weight: bold\">Model: \"generator\"</span>\n",
              "</pre>\n"
            ]
          },
          "metadata": {}
        },
        {
          "output_type": "display_data",
          "data": {
            "text/plain": [
              "┏━━━━━━━━━━━━━━━━━━━━━━━━━━━━━━━━━┳━━━━━━━━━━━━━━━━━━━━━━━━┳━━━━━━━━━━━━━━━┓\n",
              "┃\u001b[1m \u001b[0m\u001b[1mLayer (type)                   \u001b[0m\u001b[1m \u001b[0m┃\u001b[1m \u001b[0m\u001b[1mOutput Shape          \u001b[0m\u001b[1m \u001b[0m┃\u001b[1m \u001b[0m\u001b[1m      Param #\u001b[0m\u001b[1m \u001b[0m┃\n",
              "┡━━━━━━━━━━━━━━━━━━━━━━━━━━━━━━━━━╇━━━━━━━━━━━━━━━━━━━━━━━━╇━━━━━━━━━━━━━━━┩\n",
              "│ dense_2 (\u001b[38;5;33mDense\u001b[0m)                 │ (\u001b[38;5;45mNone\u001b[0m, \u001b[38;5;34m12544\u001b[0m)          │     \u001b[38;5;34m1,254,400\u001b[0m │\n",
              "├─────────────────────────────────┼────────────────────────┼───────────────┤\n",
              "│ batch_normalization_3           │ (\u001b[38;5;45mNone\u001b[0m, \u001b[38;5;34m12544\u001b[0m)          │        \u001b[38;5;34m50,176\u001b[0m │\n",
              "│ (\u001b[38;5;33mBatchNormalization\u001b[0m)            │                        │               │\n",
              "├─────────────────────────────────┼────────────────────────┼───────────────┤\n",
              "│ leaky_re_lu_5 (\u001b[38;5;33mLeakyReLU\u001b[0m)       │ (\u001b[38;5;45mNone\u001b[0m, \u001b[38;5;34m12544\u001b[0m)          │             \u001b[38;5;34m0\u001b[0m │\n",
              "├─────────────────────────────────┼────────────────────────┼───────────────┤\n",
              "│ reshape_1 (\u001b[38;5;33mReshape\u001b[0m)             │ (\u001b[38;5;45mNone\u001b[0m, \u001b[38;5;34m7\u001b[0m, \u001b[38;5;34m7\u001b[0m, \u001b[38;5;34m256\u001b[0m)      │             \u001b[38;5;34m0\u001b[0m │\n",
              "├─────────────────────────────────┼────────────────────────┼───────────────┤\n",
              "│ conv2d_transpose_3              │ (\u001b[38;5;45mNone\u001b[0m, \u001b[38;5;34m7\u001b[0m, \u001b[38;5;34m7\u001b[0m, \u001b[38;5;34m128\u001b[0m)      │       \u001b[38;5;34m819,200\u001b[0m │\n",
              "│ (\u001b[38;5;33mConv2DTranspose\u001b[0m)               │                        │               │\n",
              "├─────────────────────────────────┼────────────────────────┼───────────────┤\n",
              "│ batch_normalization_4           │ (\u001b[38;5;45mNone\u001b[0m, \u001b[38;5;34m7\u001b[0m, \u001b[38;5;34m7\u001b[0m, \u001b[38;5;34m128\u001b[0m)      │           \u001b[38;5;34m512\u001b[0m │\n",
              "│ (\u001b[38;5;33mBatchNormalization\u001b[0m)            │                        │               │\n",
              "├─────────────────────────────────┼────────────────────────┼───────────────┤\n",
              "│ leaky_re_lu_6 (\u001b[38;5;33mLeakyReLU\u001b[0m)       │ (\u001b[38;5;45mNone\u001b[0m, \u001b[38;5;34m7\u001b[0m, \u001b[38;5;34m7\u001b[0m, \u001b[38;5;34m128\u001b[0m)      │             \u001b[38;5;34m0\u001b[0m │\n",
              "├─────────────────────────────────┼────────────────────────┼───────────────┤\n",
              "│ conv2d_transpose_4              │ (\u001b[38;5;45mNone\u001b[0m, \u001b[38;5;34m14\u001b[0m, \u001b[38;5;34m14\u001b[0m, \u001b[38;5;34m64\u001b[0m)     │       \u001b[38;5;34m204,800\u001b[0m │\n",
              "│ (\u001b[38;5;33mConv2DTranspose\u001b[0m)               │                        │               │\n",
              "├─────────────────────────────────┼────────────────────────┼───────────────┤\n",
              "│ batch_normalization_5           │ (\u001b[38;5;45mNone\u001b[0m, \u001b[38;5;34m14\u001b[0m, \u001b[38;5;34m14\u001b[0m, \u001b[38;5;34m64\u001b[0m)     │           \u001b[38;5;34m256\u001b[0m │\n",
              "│ (\u001b[38;5;33mBatchNormalization\u001b[0m)            │                        │               │\n",
              "├─────────────────────────────────┼────────────────────────┼───────────────┤\n",
              "│ leaky_re_lu_7 (\u001b[38;5;33mLeakyReLU\u001b[0m)       │ (\u001b[38;5;45mNone\u001b[0m, \u001b[38;5;34m14\u001b[0m, \u001b[38;5;34m14\u001b[0m, \u001b[38;5;34m64\u001b[0m)     │             \u001b[38;5;34m0\u001b[0m │\n",
              "├─────────────────────────────────┼────────────────────────┼───────────────┤\n",
              "│ conv2d_transpose_5              │ (\u001b[38;5;45mNone\u001b[0m, \u001b[38;5;34m28\u001b[0m, \u001b[38;5;34m28\u001b[0m, \u001b[38;5;34m1\u001b[0m)      │         \u001b[38;5;34m1,600\u001b[0m │\n",
              "│ (\u001b[38;5;33mConv2DTranspose\u001b[0m)               │                        │               │\n",
              "└─────────────────────────────────┴────────────────────────┴───────────────┘\n"
            ],
            "text/html": [
              "<pre style=\"white-space:pre;overflow-x:auto;line-height:normal;font-family:Menlo,'DejaVu Sans Mono',consolas,'Courier New',monospace\">┏━━━━━━━━━━━━━━━━━━━━━━━━━━━━━━━━━┳━━━━━━━━━━━━━━━━━━━━━━━━┳━━━━━━━━━━━━━━━┓\n",
              "┃<span style=\"font-weight: bold\"> Layer (type)                    </span>┃<span style=\"font-weight: bold\"> Output Shape           </span>┃<span style=\"font-weight: bold\">       Param # </span>┃\n",
              "┡━━━━━━━━━━━━━━━━━━━━━━━━━━━━━━━━━╇━━━━━━━━━━━━━━━━━━━━━━━━╇━━━━━━━━━━━━━━━┩\n",
              "│ dense_2 (<span style=\"color: #0087ff; text-decoration-color: #0087ff\">Dense</span>)                 │ (<span style=\"color: #00d7ff; text-decoration-color: #00d7ff\">None</span>, <span style=\"color: #00af00; text-decoration-color: #00af00\">12544</span>)          │     <span style=\"color: #00af00; text-decoration-color: #00af00\">1,254,400</span> │\n",
              "├─────────────────────────────────┼────────────────────────┼───────────────┤\n",
              "│ batch_normalization_3           │ (<span style=\"color: #00d7ff; text-decoration-color: #00d7ff\">None</span>, <span style=\"color: #00af00; text-decoration-color: #00af00\">12544</span>)          │        <span style=\"color: #00af00; text-decoration-color: #00af00\">50,176</span> │\n",
              "│ (<span style=\"color: #0087ff; text-decoration-color: #0087ff\">BatchNormalization</span>)            │                        │               │\n",
              "├─────────────────────────────────┼────────────────────────┼───────────────┤\n",
              "│ leaky_re_lu_5 (<span style=\"color: #0087ff; text-decoration-color: #0087ff\">LeakyReLU</span>)       │ (<span style=\"color: #00d7ff; text-decoration-color: #00d7ff\">None</span>, <span style=\"color: #00af00; text-decoration-color: #00af00\">12544</span>)          │             <span style=\"color: #00af00; text-decoration-color: #00af00\">0</span> │\n",
              "├─────────────────────────────────┼────────────────────────┼───────────────┤\n",
              "│ reshape_1 (<span style=\"color: #0087ff; text-decoration-color: #0087ff\">Reshape</span>)             │ (<span style=\"color: #00d7ff; text-decoration-color: #00d7ff\">None</span>, <span style=\"color: #00af00; text-decoration-color: #00af00\">7</span>, <span style=\"color: #00af00; text-decoration-color: #00af00\">7</span>, <span style=\"color: #00af00; text-decoration-color: #00af00\">256</span>)      │             <span style=\"color: #00af00; text-decoration-color: #00af00\">0</span> │\n",
              "├─────────────────────────────────┼────────────────────────┼───────────────┤\n",
              "│ conv2d_transpose_3              │ (<span style=\"color: #00d7ff; text-decoration-color: #00d7ff\">None</span>, <span style=\"color: #00af00; text-decoration-color: #00af00\">7</span>, <span style=\"color: #00af00; text-decoration-color: #00af00\">7</span>, <span style=\"color: #00af00; text-decoration-color: #00af00\">128</span>)      │       <span style=\"color: #00af00; text-decoration-color: #00af00\">819,200</span> │\n",
              "│ (<span style=\"color: #0087ff; text-decoration-color: #0087ff\">Conv2DTranspose</span>)               │                        │               │\n",
              "├─────────────────────────────────┼────────────────────────┼───────────────┤\n",
              "│ batch_normalization_4           │ (<span style=\"color: #00d7ff; text-decoration-color: #00d7ff\">None</span>, <span style=\"color: #00af00; text-decoration-color: #00af00\">7</span>, <span style=\"color: #00af00; text-decoration-color: #00af00\">7</span>, <span style=\"color: #00af00; text-decoration-color: #00af00\">128</span>)      │           <span style=\"color: #00af00; text-decoration-color: #00af00\">512</span> │\n",
              "│ (<span style=\"color: #0087ff; text-decoration-color: #0087ff\">BatchNormalization</span>)            │                        │               │\n",
              "├─────────────────────────────────┼────────────────────────┼───────────────┤\n",
              "│ leaky_re_lu_6 (<span style=\"color: #0087ff; text-decoration-color: #0087ff\">LeakyReLU</span>)       │ (<span style=\"color: #00d7ff; text-decoration-color: #00d7ff\">None</span>, <span style=\"color: #00af00; text-decoration-color: #00af00\">7</span>, <span style=\"color: #00af00; text-decoration-color: #00af00\">7</span>, <span style=\"color: #00af00; text-decoration-color: #00af00\">128</span>)      │             <span style=\"color: #00af00; text-decoration-color: #00af00\">0</span> │\n",
              "├─────────────────────────────────┼────────────────────────┼───────────────┤\n",
              "│ conv2d_transpose_4              │ (<span style=\"color: #00d7ff; text-decoration-color: #00d7ff\">None</span>, <span style=\"color: #00af00; text-decoration-color: #00af00\">14</span>, <span style=\"color: #00af00; text-decoration-color: #00af00\">14</span>, <span style=\"color: #00af00; text-decoration-color: #00af00\">64</span>)     │       <span style=\"color: #00af00; text-decoration-color: #00af00\">204,800</span> │\n",
              "│ (<span style=\"color: #0087ff; text-decoration-color: #0087ff\">Conv2DTranspose</span>)               │                        │               │\n",
              "├─────────────────────────────────┼────────────────────────┼───────────────┤\n",
              "│ batch_normalization_5           │ (<span style=\"color: #00d7ff; text-decoration-color: #00d7ff\">None</span>, <span style=\"color: #00af00; text-decoration-color: #00af00\">14</span>, <span style=\"color: #00af00; text-decoration-color: #00af00\">14</span>, <span style=\"color: #00af00; text-decoration-color: #00af00\">64</span>)     │           <span style=\"color: #00af00; text-decoration-color: #00af00\">256</span> │\n",
              "│ (<span style=\"color: #0087ff; text-decoration-color: #0087ff\">BatchNormalization</span>)            │                        │               │\n",
              "├─────────────────────────────────┼────────────────────────┼───────────────┤\n",
              "│ leaky_re_lu_7 (<span style=\"color: #0087ff; text-decoration-color: #0087ff\">LeakyReLU</span>)       │ (<span style=\"color: #00d7ff; text-decoration-color: #00d7ff\">None</span>, <span style=\"color: #00af00; text-decoration-color: #00af00\">14</span>, <span style=\"color: #00af00; text-decoration-color: #00af00\">14</span>, <span style=\"color: #00af00; text-decoration-color: #00af00\">64</span>)     │             <span style=\"color: #00af00; text-decoration-color: #00af00\">0</span> │\n",
              "├─────────────────────────────────┼────────────────────────┼───────────────┤\n",
              "│ conv2d_transpose_5              │ (<span style=\"color: #00d7ff; text-decoration-color: #00d7ff\">None</span>, <span style=\"color: #00af00; text-decoration-color: #00af00\">28</span>, <span style=\"color: #00af00; text-decoration-color: #00af00\">28</span>, <span style=\"color: #00af00; text-decoration-color: #00af00\">1</span>)      │         <span style=\"color: #00af00; text-decoration-color: #00af00\">1,600</span> │\n",
              "│ (<span style=\"color: #0087ff; text-decoration-color: #0087ff\">Conv2DTranspose</span>)               │                        │               │\n",
              "└─────────────────────────────────┴────────────────────────┴───────────────┘\n",
              "</pre>\n"
            ]
          },
          "metadata": {}
        },
        {
          "output_type": "display_data",
          "data": {
            "text/plain": [
              "\u001b[1m Total params: \u001b[0m\u001b[38;5;34m2,330,944\u001b[0m (8.89 MB)\n"
            ],
            "text/html": [
              "<pre style=\"white-space:pre;overflow-x:auto;line-height:normal;font-family:Menlo,'DejaVu Sans Mono',consolas,'Courier New',monospace\"><span style=\"font-weight: bold\"> Total params: </span><span style=\"color: #00af00; text-decoration-color: #00af00\">2,330,944</span> (8.89 MB)\n",
              "</pre>\n"
            ]
          },
          "metadata": {}
        },
        {
          "output_type": "display_data",
          "data": {
            "text/plain": [
              "\u001b[1m Trainable params: \u001b[0m\u001b[38;5;34m2,305,472\u001b[0m (8.79 MB)\n"
            ],
            "text/html": [
              "<pre style=\"white-space:pre;overflow-x:auto;line-height:normal;font-family:Menlo,'DejaVu Sans Mono',consolas,'Courier New',monospace\"><span style=\"font-weight: bold\"> Trainable params: </span><span style=\"color: #00af00; text-decoration-color: #00af00\">2,305,472</span> (8.79 MB)\n",
              "</pre>\n"
            ]
          },
          "metadata": {}
        },
        {
          "output_type": "display_data",
          "data": {
            "text/plain": [
              "\u001b[1m Non-trainable params: \u001b[0m\u001b[38;5;34m25,472\u001b[0m (99.50 KB)\n"
            ],
            "text/html": [
              "<pre style=\"white-space:pre;overflow-x:auto;line-height:normal;font-family:Menlo,'DejaVu Sans Mono',consolas,'Courier New',monospace\"><span style=\"font-weight: bold\"> Non-trainable params: </span><span style=\"color: #00af00; text-decoration-color: #00af00\">25,472</span> (99.50 KB)\n",
              "</pre>\n"
            ]
          },
          "metadata": {}
        }
      ]
    },
    {
      "cell_type": "markdown",
      "source": [
        "# 4. CREATE DISCRIMINATOR MODEL"
      ],
      "metadata": {
        "id": "SC_3lJzM7jwP"
      }
    },
    {
      "cell_type": "code",
      "source": [
        "def create_discriminator():\n",
        "    \"\"\"\n",
        "    Discriminator: Membedakan gambar real vs fake\n",
        "    Input: Image (28, 28, 1)\n",
        "    Output: Probability (real/fake)\n",
        "    \"\"\"\n",
        "    model = keras.Sequential([\n",
        "        layers.Conv2D(64, (5, 5), strides=(2, 2), padding='same', input_shape=[28, 28, 1]),\n",
        "        layers.LeakyReLU(),\n",
        "        layers.Dropout(0.3),\n",
        "\n",
        "        layers.Conv2D(128, (5, 5), strides=(2, 2), padding='same'),\n",
        "        layers.LeakyReLU(),\n",
        "        layers.Dropout(0.3),\n",
        "\n",
        "        layers.Flatten(),\n",
        "        layers.Dense(1, activation='sigmoid')\n",
        "    ], name='discriminator')\n",
        "\n",
        "    return model\n",
        "\n",
        "# Create discriminator\n",
        "discriminator = create_discriminator()\n",
        "\n",
        "# Test discriminator\n",
        "decision = discriminator(generated_image, training=False)\n",
        "print(f\"Discriminator decision on generated image: {decision.numpy()[0][0]:.4f}\")\n",
        "\n",
        "print(\"\\nDiscriminator Architecture:\")\n",
        "discriminator.summary()"
      ],
      "metadata": {
        "colab": {
          "base_uri": "https://localhost:8080/",
          "height": 492
        },
        "id": "pz4vm5yG7DRH",
        "outputId": "c95161cd-c264-49a7-a154-32b7a4c279ef"
      },
      "execution_count": 5,
      "outputs": [
        {
          "output_type": "stream",
          "name": "stdout",
          "text": [
            "Discriminator decision on generated image: 0.5002\n",
            "\n",
            "Discriminator Architecture:\n"
          ]
        },
        {
          "output_type": "stream",
          "name": "stderr",
          "text": [
            "/usr/local/lib/python3.11/dist-packages/keras/src/layers/convolutional/base_conv.py:107: UserWarning: Do not pass an `input_shape`/`input_dim` argument to a layer. When using Sequential models, prefer using an `Input(shape)` object as the first layer in the model instead.\n",
            "  super().__init__(activity_regularizer=activity_regularizer, **kwargs)\n"
          ]
        },
        {
          "output_type": "display_data",
          "data": {
            "text/plain": [
              "\u001b[1mModel: \"discriminator\"\u001b[0m\n"
            ],
            "text/html": [
              "<pre style=\"white-space:pre;overflow-x:auto;line-height:normal;font-family:Menlo,'DejaVu Sans Mono',consolas,'Courier New',monospace\"><span style=\"font-weight: bold\">Model: \"discriminator\"</span>\n",
              "</pre>\n"
            ]
          },
          "metadata": {}
        },
        {
          "output_type": "display_data",
          "data": {
            "text/plain": [
              "┏━━━━━━━━━━━━━━━━━━━━━━━━━━━━━━━━━┳━━━━━━━━━━━━━━━━━━━━━━━━┳━━━━━━━━━━━━━━━┓\n",
              "┃\u001b[1m \u001b[0m\u001b[1mLayer (type)                   \u001b[0m\u001b[1m \u001b[0m┃\u001b[1m \u001b[0m\u001b[1mOutput Shape          \u001b[0m\u001b[1m \u001b[0m┃\u001b[1m \u001b[0m\u001b[1m      Param #\u001b[0m\u001b[1m \u001b[0m┃\n",
              "┡━━━━━━━━━━━━━━━━━━━━━━━━━━━━━━━━━╇━━━━━━━━━━━━━━━━━━━━━━━━╇━━━━━━━━━━━━━━━┩\n",
              "│ conv2d_2 (\u001b[38;5;33mConv2D\u001b[0m)               │ (\u001b[38;5;45mNone\u001b[0m, \u001b[38;5;34m14\u001b[0m, \u001b[38;5;34m14\u001b[0m, \u001b[38;5;34m64\u001b[0m)     │         \u001b[38;5;34m1,664\u001b[0m │\n",
              "├─────────────────────────────────┼────────────────────────┼───────────────┤\n",
              "│ leaky_re_lu_8 (\u001b[38;5;33mLeakyReLU\u001b[0m)       │ (\u001b[38;5;45mNone\u001b[0m, \u001b[38;5;34m14\u001b[0m, \u001b[38;5;34m14\u001b[0m, \u001b[38;5;34m64\u001b[0m)     │             \u001b[38;5;34m0\u001b[0m │\n",
              "├─────────────────────────────────┼────────────────────────┼───────────────┤\n",
              "│ dropout_2 (\u001b[38;5;33mDropout\u001b[0m)             │ (\u001b[38;5;45mNone\u001b[0m, \u001b[38;5;34m14\u001b[0m, \u001b[38;5;34m14\u001b[0m, \u001b[38;5;34m64\u001b[0m)     │             \u001b[38;5;34m0\u001b[0m │\n",
              "├─────────────────────────────────┼────────────────────────┼───────────────┤\n",
              "│ conv2d_3 (\u001b[38;5;33mConv2D\u001b[0m)               │ (\u001b[38;5;45mNone\u001b[0m, \u001b[38;5;34m7\u001b[0m, \u001b[38;5;34m7\u001b[0m, \u001b[38;5;34m128\u001b[0m)      │       \u001b[38;5;34m204,928\u001b[0m │\n",
              "├─────────────────────────────────┼────────────────────────┼───────────────┤\n",
              "│ leaky_re_lu_9 (\u001b[38;5;33mLeakyReLU\u001b[0m)       │ (\u001b[38;5;45mNone\u001b[0m, \u001b[38;5;34m7\u001b[0m, \u001b[38;5;34m7\u001b[0m, \u001b[38;5;34m128\u001b[0m)      │             \u001b[38;5;34m0\u001b[0m │\n",
              "├─────────────────────────────────┼────────────────────────┼───────────────┤\n",
              "│ dropout_3 (\u001b[38;5;33mDropout\u001b[0m)             │ (\u001b[38;5;45mNone\u001b[0m, \u001b[38;5;34m7\u001b[0m, \u001b[38;5;34m7\u001b[0m, \u001b[38;5;34m128\u001b[0m)      │             \u001b[38;5;34m0\u001b[0m │\n",
              "├─────────────────────────────────┼────────────────────────┼───────────────┤\n",
              "│ flatten_1 (\u001b[38;5;33mFlatten\u001b[0m)             │ (\u001b[38;5;45mNone\u001b[0m, \u001b[38;5;34m6272\u001b[0m)           │             \u001b[38;5;34m0\u001b[0m │\n",
              "├─────────────────────────────────┼────────────────────────┼───────────────┤\n",
              "│ dense_3 (\u001b[38;5;33mDense\u001b[0m)                 │ (\u001b[38;5;45mNone\u001b[0m, \u001b[38;5;34m1\u001b[0m)              │         \u001b[38;5;34m6,273\u001b[0m │\n",
              "└─────────────────────────────────┴────────────────────────┴───────────────┘\n"
            ],
            "text/html": [
              "<pre style=\"white-space:pre;overflow-x:auto;line-height:normal;font-family:Menlo,'DejaVu Sans Mono',consolas,'Courier New',monospace\">┏━━━━━━━━━━━━━━━━━━━━━━━━━━━━━━━━━┳━━━━━━━━━━━━━━━━━━━━━━━━┳━━━━━━━━━━━━━━━┓\n",
              "┃<span style=\"font-weight: bold\"> Layer (type)                    </span>┃<span style=\"font-weight: bold\"> Output Shape           </span>┃<span style=\"font-weight: bold\">       Param # </span>┃\n",
              "┡━━━━━━━━━━━━━━━━━━━━━━━━━━━━━━━━━╇━━━━━━━━━━━━━━━━━━━━━━━━╇━━━━━━━━━━━━━━━┩\n",
              "│ conv2d_2 (<span style=\"color: #0087ff; text-decoration-color: #0087ff\">Conv2D</span>)               │ (<span style=\"color: #00d7ff; text-decoration-color: #00d7ff\">None</span>, <span style=\"color: #00af00; text-decoration-color: #00af00\">14</span>, <span style=\"color: #00af00; text-decoration-color: #00af00\">14</span>, <span style=\"color: #00af00; text-decoration-color: #00af00\">64</span>)     │         <span style=\"color: #00af00; text-decoration-color: #00af00\">1,664</span> │\n",
              "├─────────────────────────────────┼────────────────────────┼───────────────┤\n",
              "│ leaky_re_lu_8 (<span style=\"color: #0087ff; text-decoration-color: #0087ff\">LeakyReLU</span>)       │ (<span style=\"color: #00d7ff; text-decoration-color: #00d7ff\">None</span>, <span style=\"color: #00af00; text-decoration-color: #00af00\">14</span>, <span style=\"color: #00af00; text-decoration-color: #00af00\">14</span>, <span style=\"color: #00af00; text-decoration-color: #00af00\">64</span>)     │             <span style=\"color: #00af00; text-decoration-color: #00af00\">0</span> │\n",
              "├─────────────────────────────────┼────────────────────────┼───────────────┤\n",
              "│ dropout_2 (<span style=\"color: #0087ff; text-decoration-color: #0087ff\">Dropout</span>)             │ (<span style=\"color: #00d7ff; text-decoration-color: #00d7ff\">None</span>, <span style=\"color: #00af00; text-decoration-color: #00af00\">14</span>, <span style=\"color: #00af00; text-decoration-color: #00af00\">14</span>, <span style=\"color: #00af00; text-decoration-color: #00af00\">64</span>)     │             <span style=\"color: #00af00; text-decoration-color: #00af00\">0</span> │\n",
              "├─────────────────────────────────┼────────────────────────┼───────────────┤\n",
              "│ conv2d_3 (<span style=\"color: #0087ff; text-decoration-color: #0087ff\">Conv2D</span>)               │ (<span style=\"color: #00d7ff; text-decoration-color: #00d7ff\">None</span>, <span style=\"color: #00af00; text-decoration-color: #00af00\">7</span>, <span style=\"color: #00af00; text-decoration-color: #00af00\">7</span>, <span style=\"color: #00af00; text-decoration-color: #00af00\">128</span>)      │       <span style=\"color: #00af00; text-decoration-color: #00af00\">204,928</span> │\n",
              "├─────────────────────────────────┼────────────────────────┼───────────────┤\n",
              "│ leaky_re_lu_9 (<span style=\"color: #0087ff; text-decoration-color: #0087ff\">LeakyReLU</span>)       │ (<span style=\"color: #00d7ff; text-decoration-color: #00d7ff\">None</span>, <span style=\"color: #00af00; text-decoration-color: #00af00\">7</span>, <span style=\"color: #00af00; text-decoration-color: #00af00\">7</span>, <span style=\"color: #00af00; text-decoration-color: #00af00\">128</span>)      │             <span style=\"color: #00af00; text-decoration-color: #00af00\">0</span> │\n",
              "├─────────────────────────────────┼────────────────────────┼───────────────┤\n",
              "│ dropout_3 (<span style=\"color: #0087ff; text-decoration-color: #0087ff\">Dropout</span>)             │ (<span style=\"color: #00d7ff; text-decoration-color: #00d7ff\">None</span>, <span style=\"color: #00af00; text-decoration-color: #00af00\">7</span>, <span style=\"color: #00af00; text-decoration-color: #00af00\">7</span>, <span style=\"color: #00af00; text-decoration-color: #00af00\">128</span>)      │             <span style=\"color: #00af00; text-decoration-color: #00af00\">0</span> │\n",
              "├─────────────────────────────────┼────────────────────────┼───────────────┤\n",
              "│ flatten_1 (<span style=\"color: #0087ff; text-decoration-color: #0087ff\">Flatten</span>)             │ (<span style=\"color: #00d7ff; text-decoration-color: #00d7ff\">None</span>, <span style=\"color: #00af00; text-decoration-color: #00af00\">6272</span>)           │             <span style=\"color: #00af00; text-decoration-color: #00af00\">0</span> │\n",
              "├─────────────────────────────────┼────────────────────────┼───────────────┤\n",
              "│ dense_3 (<span style=\"color: #0087ff; text-decoration-color: #0087ff\">Dense</span>)                 │ (<span style=\"color: #00d7ff; text-decoration-color: #00d7ff\">None</span>, <span style=\"color: #00af00; text-decoration-color: #00af00\">1</span>)              │         <span style=\"color: #00af00; text-decoration-color: #00af00\">6,273</span> │\n",
              "└─────────────────────────────────┴────────────────────────┴───────────────┘\n",
              "</pre>\n"
            ]
          },
          "metadata": {}
        },
        {
          "output_type": "display_data",
          "data": {
            "text/plain": [
              "\u001b[1m Total params: \u001b[0m\u001b[38;5;34m212,865\u001b[0m (831.50 KB)\n"
            ],
            "text/html": [
              "<pre style=\"white-space:pre;overflow-x:auto;line-height:normal;font-family:Menlo,'DejaVu Sans Mono',consolas,'Courier New',monospace\"><span style=\"font-weight: bold\"> Total params: </span><span style=\"color: #00af00; text-decoration-color: #00af00\">212,865</span> (831.50 KB)\n",
              "</pre>\n"
            ]
          },
          "metadata": {}
        },
        {
          "output_type": "display_data",
          "data": {
            "text/plain": [
              "\u001b[1m Trainable params: \u001b[0m\u001b[38;5;34m212,865\u001b[0m (831.50 KB)\n"
            ],
            "text/html": [
              "<pre style=\"white-space:pre;overflow-x:auto;line-height:normal;font-family:Menlo,'DejaVu Sans Mono',consolas,'Courier New',monospace\"><span style=\"font-weight: bold\"> Trainable params: </span><span style=\"color: #00af00; text-decoration-color: #00af00\">212,865</span> (831.50 KB)\n",
              "</pre>\n"
            ]
          },
          "metadata": {}
        },
        {
          "output_type": "display_data",
          "data": {
            "text/plain": [
              "\u001b[1m Non-trainable params: \u001b[0m\u001b[38;5;34m0\u001b[0m (0.00 B)\n"
            ],
            "text/html": [
              "<pre style=\"white-space:pre;overflow-x:auto;line-height:normal;font-family:Menlo,'DejaVu Sans Mono',consolas,'Courier New',monospace\"><span style=\"font-weight: bold\"> Non-trainable params: </span><span style=\"color: #00af00; text-decoration-color: #00af00\">0</span> (0.00 B)\n",
              "</pre>\n"
            ]
          },
          "metadata": {}
        }
      ]
    },
